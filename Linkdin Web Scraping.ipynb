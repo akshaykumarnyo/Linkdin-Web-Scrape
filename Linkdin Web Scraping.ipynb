{
 "cells": [
  {
   "cell_type": "code",
   "execution_count": 1,
   "id": "75383037-2d72-48c0-b2a3-7d0692520b7e",
   "metadata": {},
   "outputs": [
    {
     "name": "stdout",
     "output_type": "stream",
     "text": [
      "Collecting selenium\n",
      "  Downloading selenium-4.23.1-py3-none-any.whl.metadata (7.1 kB)\n",
      "Requirement already satisfied: beautifulsoup4 in c:\\users\\akshay\\anaconda3\\lib\\site-packages (4.12.2)\n",
      "Requirement already satisfied: pandas in c:\\users\\akshay\\anaconda3\\lib\\site-packages (2.1.4)\n",
      "Requirement already satisfied: urllib3<3,>=1.26 in c:\\users\\akshay\\anaconda3\\lib\\site-packages (from urllib3[socks]<3,>=1.26->selenium) (2.0.7)\n",
      "Collecting trio~=0.17 (from selenium)\n",
      "  Downloading trio-0.26.2-py3-none-any.whl.metadata (8.6 kB)\n",
      "Collecting trio-websocket~=0.9 (from selenium)\n",
      "  Downloading trio_websocket-0.11.1-py3-none-any.whl.metadata (4.7 kB)\n",
      "Requirement already satisfied: certifi>=2021.10.8 in c:\\users\\akshay\\anaconda3\\lib\\site-packages (from selenium) (2024.6.2)\n",
      "Requirement already satisfied: typing_extensions~=4.9 in c:\\users\\akshay\\anaconda3\\lib\\site-packages (from selenium) (4.12.2)\n",
      "Collecting websocket-client~=1.8 (from selenium)\n",
      "  Using cached websocket_client-1.8.0-py3-none-any.whl.metadata (8.0 kB)\n",
      "Requirement already satisfied: soupsieve>1.2 in c:\\users\\akshay\\anaconda3\\lib\\site-packages (from beautifulsoup4) (2.5)\n",
      "Requirement already satisfied: numpy<2,>=1.23.2 in c:\\users\\akshay\\anaconda3\\lib\\site-packages (from pandas) (1.26.4)\n",
      "Requirement already satisfied: python-dateutil>=2.8.2 in c:\\users\\akshay\\anaconda3\\lib\\site-packages (from pandas) (2.9.0.post0)\n",
      "Requirement already satisfied: pytz>=2020.1 in c:\\users\\akshay\\anaconda3\\lib\\site-packages (from pandas) (2023.3.post1)\n",
      "Requirement already satisfied: tzdata>=2022.1 in c:\\users\\akshay\\anaconda3\\lib\\site-packages (from pandas) (2023.3)\n",
      "Requirement already satisfied: six>=1.5 in c:\\users\\akshay\\anaconda3\\lib\\site-packages (from python-dateutil>=2.8.2->pandas) (1.16.0)\n",
      "Collecting attrs>=23.2.0 (from trio~=0.17->selenium)\n",
      "  Downloading attrs-24.2.0-py3-none-any.whl.metadata (11 kB)\n",
      "Requirement already satisfied: sortedcontainers in c:\\users\\akshay\\anaconda3\\lib\\site-packages (from trio~=0.17->selenium) (2.4.0)\n",
      "Requirement already satisfied: idna in c:\\users\\akshay\\anaconda3\\lib\\site-packages (from trio~=0.17->selenium) (2.10)\n",
      "Collecting outcome (from trio~=0.17->selenium)\n",
      "  Downloading outcome-1.3.0.post0-py2.py3-none-any.whl.metadata (2.6 kB)\n",
      "Requirement already satisfied: sniffio>=1.3.0 in c:\\users\\akshay\\anaconda3\\lib\\site-packages (from trio~=0.17->selenium) (1.3.0)\n",
      "Requirement already satisfied: cffi>=1.14 in c:\\users\\akshay\\anaconda3\\lib\\site-packages (from trio~=0.17->selenium) (1.16.0)\n",
      "Collecting wsproto>=0.14 (from trio-websocket~=0.9->selenium)\n",
      "  Downloading wsproto-1.2.0-py3-none-any.whl.metadata (5.6 kB)\n",
      "Requirement already satisfied: pysocks!=1.5.7,<2.0,>=1.5.6 in c:\\users\\akshay\\anaconda3\\lib\\site-packages (from urllib3[socks]<3,>=1.26->selenium) (1.7.1)\n",
      "Requirement already satisfied: pycparser in c:\\users\\akshay\\anaconda3\\lib\\site-packages (from cffi>=1.14->trio~=0.17->selenium) (2.21)\n",
      "Requirement already satisfied: h11<1,>=0.9.0 in c:\\users\\akshay\\anaconda3\\lib\\site-packages (from wsproto>=0.14->trio-websocket~=0.9->selenium) (0.9.0)\n",
      "Downloading selenium-4.23.1-py3-none-any.whl (9.4 MB)\n",
      "   ---------------------------------------- 0.0/9.4 MB ? eta -:--:--\n",
      "   ---------------------------------------- 0.0/9.4 MB 660.6 kB/s eta 0:00:15\n",
      "   ---------------------------------------- 0.1/9.4 MB 1.1 MB/s eta 0:00:09\n",
      "    --------------------------------------- 0.2/9.4 MB 1.5 MB/s eta 0:00:07\n",
      "   -- ------------------------------------- 0.5/9.4 MB 2.2 MB/s eta 0:00:04\n",
      "   --- ------------------------------------ 0.7/9.4 MB 2.7 MB/s eta 0:00:04\n",
      "   --- ------------------------------------ 0.8/9.4 MB 2.8 MB/s eta 0:00:04\n",
      "   ---- ----------------------------------- 1.1/9.4 MB 3.1 MB/s eta 0:00:03\n",
      "   ----- ---------------------------------- 1.4/9.4 MB 3.5 MB/s eta 0:00:03\n",
      "   ------ --------------------------------- 1.5/9.4 MB 3.4 MB/s eta 0:00:03\n",
      "   ------- -------------------------------- 1.8/9.4 MB 3.6 MB/s eta 0:00:03\n",
      "   -------- ------------------------------- 2.0/9.4 MB 3.6 MB/s eta 0:00:03\n",
      "   --------- ------------------------------ 2.3/9.4 MB 3.9 MB/s eta 0:00:02\n",
      "   --------- ------------------------------ 2.3/9.4 MB 3.6 MB/s eta 0:00:02\n",
      "   ----------- ---------------------------- 2.7/9.4 MB 3.9 MB/s eta 0:00:02\n",
      "   ----------- ---------------------------- 2.8/9.4 MB 3.8 MB/s eta 0:00:02\n",
      "   ------------ --------------------------- 3.0/9.4 MB 3.9 MB/s eta 0:00:02\n",
      "   ------------- -------------------------- 3.3/9.4 MB 4.0 MB/s eta 0:00:02\n",
      "   -------------- ------------------------- 3.5/9.4 MB 4.1 MB/s eta 0:00:02\n",
      "   ---------------- ----------------------- 3.8/9.4 MB 4.1 MB/s eta 0:00:02\n",
      "   ----------------- ---------------------- 4.1/9.4 MB 4.3 MB/s eta 0:00:02\n",
      "   ------------------ --------------------- 4.5/9.4 MB 4.4 MB/s eta 0:00:02\n",
      "   ------------------- -------------------- 4.6/9.4 MB 4.4 MB/s eta 0:00:02\n",
      "   --------------------- ------------------ 5.0/9.4 MB 4.5 MB/s eta 0:00:01\n",
      "   ---------------------- ----------------- 5.2/9.4 MB 4.6 MB/s eta 0:00:01\n",
      "   ----------------------- ---------------- 5.5/9.4 MB 4.6 MB/s eta 0:00:01\n",
      "   ------------------------ --------------- 5.7/9.4 MB 4.6 MB/s eta 0:00:01\n",
      "   ------------------------- -------------- 6.0/9.4 MB 4.7 MB/s eta 0:00:01\n",
      "   -------------------------- ------------- 6.3/9.4 MB 4.8 MB/s eta 0:00:01\n",
      "   --------------------------- ------------ 6.6/9.4 MB 4.8 MB/s eta 0:00:01\n",
      "   ----------------------------- ---------- 6.9/9.4 MB 4.8 MB/s eta 0:00:01\n",
      "   ------------------------------ --------- 7.2/9.4 MB 4.9 MB/s eta 0:00:01\n",
      "   -------------------------------- ------- 7.6/9.4 MB 5.0 MB/s eta 0:00:01\n",
      "   --------------------------------- ------ 7.9/9.4 MB 5.1 MB/s eta 0:00:01\n",
      "   ---------------------------------- ----- 8.2/9.4 MB 5.2 MB/s eta 0:00:01\n",
      "   ------------------------------------ --- 8.6/9.4 MB 5.2 MB/s eta 0:00:01\n",
      "   ------------------------------------- -- 8.9/9.4 MB 5.3 MB/s eta 0:00:01\n",
      "   ---------------------------------------  9.3/9.4 MB 5.4 MB/s eta 0:00:01\n",
      "   ---------------------------------------  9.4/9.4 MB 5.4 MB/s eta 0:00:01\n",
      "   ---------------------------------------  9.4/9.4 MB 5.4 MB/s eta 0:00:01\n",
      "   ---------------------------------------- 9.4/9.4 MB 5.1 MB/s eta 0:00:00\n",
      "Downloading trio-0.26.2-py3-none-any.whl (475 kB)\n",
      "   ---------------------------------------- 0.0/476.0 kB ? eta -:--:--\n",
      "   ------------------------------ --------- 368.6/476.0 kB 7.6 MB/s eta 0:00:01\n",
      "   ---------------------------------------  471.0/476.0 kB 7.3 MB/s eta 0:00:01\n",
      "   ---------------------------------------- 476.0/476.0 kB 4.3 MB/s eta 0:00:00\n",
      "Downloading trio_websocket-0.11.1-py3-none-any.whl (17 kB)\n",
      "Using cached websocket_client-1.8.0-py3-none-any.whl (58 kB)\n",
      "Downloading attrs-24.2.0-py3-none-any.whl (63 kB)\n",
      "   ---------------------------------------- 0.0/63.0 kB ? eta -:--:--\n",
      "   ---------------------------------------- 63.0/63.0 kB 3.3 MB/s eta 0:00:00\n",
      "Downloading wsproto-1.2.0-py3-none-any.whl (24 kB)\n",
      "Downloading outcome-1.3.0.post0-py2.py3-none-any.whl (10 kB)\n",
      "Installing collected packages: wsproto, websocket-client, attrs, outcome, trio, trio-websocket, selenium\n",
      "  Attempting uninstall: websocket-client\n",
      "    Found existing installation: websocket-client 0.58.0\n",
      "    Uninstalling websocket-client-0.58.0:\n",
      "      Successfully uninstalled websocket-client-0.58.0\n",
      "  Attempting uninstall: attrs\n",
      "    Found existing installation: attrs 23.1.0\n",
      "    Uninstalling attrs-23.1.0:\n",
      "      Successfully uninstalled attrs-23.1.0\n",
      "Successfully installed attrs-24.2.0 outcome-1.3.0.post0 selenium-4.23.1 trio-0.26.2 trio-websocket-0.11.1 websocket-client-1.8.0 wsproto-1.2.0\n"
     ]
    }
   ],
   "source": [
    "!pip install selenium beautifulsoup4 pandas\n"
   ]
  },
  {
   "cell_type": "code",
   "execution_count": 2,
   "id": "336459fc-3070-4970-b27f-44a99c32bfc7",
   "metadata": {},
   "outputs": [],
   "source": [
    "import json\n",
    "import pandas as pd\n",
    "import time\n",
    "from datetime import datetime, timedelta\n",
    "from selenium import webdriver\n",
    "from selenium.webdriver.common.by import By\n",
    "from bs4 import BeautifulSoup"
   ]
  },
  {
   "cell_type": "code",
   "execution_count": 3,
   "id": "403f225a-8fd0-4f8f-a929-05f7921ad3ec",
   "metadata": {},
   "outputs": [],
   "source": [
    "# Function to calculate the posted date\n",
    "def calculate_posted_date(text):\n",
    "    today = datetime.today()\n",
    "    days_ago = int(text.split(' ')[1])\n",
    "    posted_date = today - timedelta(days=days_ago)\n",
    "    return posted_date.strftime('%d-%m-%Y')\n",
    "    "
   ]
  },
  {
   "cell_type": "code",
   "execution_count": 4,
   "id": "18955e39-812d-4ab4-9524-d87c0fc8578d",
   "metadata": {},
   "outputs": [],
   "source": [
    "# Function to scrape job details from a single job post\n",
    "def scrape_job_details(job_soup):\n",
    "    job_details = {}\n",
    "    job_details['company'] = job_soup.find('a', class_='topcard__org-name-link').text.strip() if job_soup.find('a', class_='topcard__org-name-link') else \"null\"\n",
    "    job_details['job_title'] = job_soup.find('h1', class_='topcard__title').text.strip() if job_soup.find('h1', class_='topcard__title') else \"null\"\n",
    "    job_details['linkedin_job_id'] = job_soup.find('meta', {'name': 'decoratedJobPostingId'})['content'] if job_soup.find('meta', {'name': 'decoratedJobPostingId'}) else \"null\"\n",
    "    job_details['location'] = job_soup.find('span', class_='topcard__flavor topcard__flavor--bullet').text.strip() if job_soup.find('span', class_='topcard__flavor topcard__flavor--bullet') else \"null\"\n",
    "    posted_on_text = job_soup.find('span', class_='posted-time-ago__text').text.strip() if job_soup.find('span', class_='posted-time-ago__text') else \"null\"\n",
    "    job_details['posted_on'] = posted_on_text\n",
    "    job_details['posted_date'] = calculate_posted_date(posted_on_text) if posted_on_text != \"null\" else \"null\"\n",
    "    job_details['employment_type'] = job_soup.find('span', class_='job-criteria__text job-criteria__text--criteria').text.strip() if job_soup.find('span', class_='job-criteria__text job-criteria__text--criteria') else \"null\"\n",
    "    job_details['seniority_level'] = job_soup.find('span', class_='job-criteria__text job-criteria__text--criteria').text.strip() if job_soup.find('span', class_='job-criteria__text job-criteria__text--criteria') else \"null\"\n",
    "\n",
    "    return job_details"
   ]
  },
  {
   "cell_type": "code",
   "execution_count": 5,
   "id": "34fef7f0-75d7-48c7-ae73-443407fb3647",
   "metadata": {},
   "outputs": [],
   "source": [
    "# URLs of the job listings to scrape\n",
    "urls = [\n",
    "    \"https://www.linkedin.com/jobs/search?location=India&geoId=102713980&f_C=1035&position=1&pageNum=0\",\n",
    "    \"https://www.linkedin.com/jobs/search?keywords=&location=India&geoId=102713980&f_C=1441\",\n",
    "    \"https://www.linkedin.com/jobs/search?keywords=&location=India&geoId=102713980&f_TPR=r86400&f_C=1586&position=1&pageNum=0\"\n",
    "]"
   ]
  },
  {
   "cell_type": "code",
   "execution_count": 6,
   "id": "ddb9d341-cbbb-4db7-a00a-ca0884b956a9",
   "metadata": {},
   "outputs": [],
   "source": [
    "# Start the Selenium WebDriver\n",
    "driver = webdriver.Chrome()  # Ensure you have the appropriate driver for your browser\n"
   ]
  },
  {
   "cell_type": "code",
   "execution_count": 7,
   "id": "5dcdfb01-ddae-4da4-bec7-689c3ef8a25e",
   "metadata": {},
   "outputs": [],
   "source": [
    "# List to hold all job details\n",
    "all_jobs = []\n"
   ]
  },
  {
   "cell_type": "code",
   "execution_count": 8,
   "id": "a5bc3b4e-289e-4863-8442-992f4323099c",
   "metadata": {},
   "outputs": [],
   "source": [
    "# Loop over the URLs and scrape data\n",
    "for url in urls:\n",
    "    driver.get(url)\n",
    "    time.sleep(5)  # Wait for the page to load completely\n",
    "\n",
    "    # Scroll down to load more jobs\n",
    "    last_height = driver.execute_script(\"return document.body.scrollHeight\")\n",
    "    while True:\n",
    "        driver.execute_script(\"window.scrollTo(0, document.body.scrollHeight);\")\n",
    "        time.sleep(2)  # Adjust as necessary for your connection speed\n",
    "        new_height = driver.execute_script(\"return document.body.scrollHeight\")\n",
    "        if new_height == last_height:\n",
    "            break\n",
    "        last_height = new_height\n",
    "\n",
    "    # Parse the page with BeautifulSoup\n",
    "    soup = BeautifulSoup(driver.page_source, 'html.parser')\n",
    "    job_cards = soup.find_all('li', class_='result-card job-result-card')\n",
    "\n",
    "    for job_card in job_cards:\n",
    "        job_link = job_card.find('a', class_='result-card__full-card-link')['href']\n",
    "        driver.get(job_link)\n",
    "        time.sleep(3)  # Wait for the job page to load completely\n",
    "        job_soup = BeautifulSoup(driver.page_source, 'html.parser')\n",
    "        job_details = scrape_job_details(job_soup)\n",
    "        all_jobs.append(job_details)\n",
    "\n",
    "    # Break the loop if we've reached at least 50 jobs\n",
    "    if len(all_jobs) >= 50:\n",
    "        break"
   ]
  },
  {
   "cell_type": "code",
   "execution_count": 9,
   "id": "8bc51b17-d427-468b-91bc-2f67aa83c77f",
   "metadata": {},
   "outputs": [],
   "source": [
    "# Close the driver\n",
    "driver.quit()"
   ]
  },
  {
   "cell_type": "code",
   "execution_count": 10,
   "id": "cee56cbc-485a-4ad7-a086-2da2c04aa1fd",
   "metadata": {},
   "outputs": [],
   "source": [
    "# Save the data to JSON and CSV files\n",
    "with open('jobs_data.json', 'w') as json_file:\n",
    "    json.dump(all_jobs, json_file, indent=4)\n"
   ]
  },
  {
   "cell_type": "code",
   "execution_count": 11,
   "id": "424041cd-1b80-464d-9100-82ab061d25e0",
   "metadata": {},
   "outputs": [
    {
     "name": "stdout",
     "output_type": "stream",
     "text": [
      "Scraping completed. Data saved to 'jobs_data.json' and 'jobs_data.csv'.\n"
     ]
    }
   ],
   "source": [
    "df = pd.DataFrame(all_jobs)\n",
    "df.to_csv('jobs_data.csv', index=False)\n",
    "\n",
    "print(\"Scraping completed. Data saved to 'jobs_data.json' and 'jobs_data.csv'.\")"
   ]
  },
  {
   "cell_type": "code",
   "execution_count": null,
   "id": "dda63177-b6e4-4c3c-a281-7122a1d8585d",
   "metadata": {},
   "outputs": [],
   "source": []
  },
  {
   "cell_type": "code",
   "execution_count": null,
   "id": "0adae961-b2b2-4c4c-8143-3d018a5ed830",
   "metadata": {},
   "outputs": [],
   "source": []
  },
  {
   "cell_type": "code",
   "execution_count": null,
   "id": "49f2a63c-7cb3-4e60-abad-0217de5bcf4e",
   "metadata": {},
   "outputs": [],
   "source": []
  },
  {
   "cell_type": "code",
   "execution_count": null,
   "id": "ad0d614c-ee62-4aef-a01a-d17500da12ab",
   "metadata": {},
   "outputs": [],
   "source": []
  },
  {
   "cell_type": "code",
   "execution_count": null,
   "id": "b00d71df-6889-4453-968e-03fb289ddba1",
   "metadata": {},
   "outputs": [],
   "source": []
  },
  {
   "cell_type": "code",
   "execution_count": null,
   "id": "1e15eebb-905c-47e1-87d5-c98e43f896e6",
   "metadata": {},
   "outputs": [],
   "source": []
  },
  {
   "cell_type": "code",
   "execution_count": null,
   "id": "5d9e988b-bc37-465f-ab57-8f772c1a7043",
   "metadata": {},
   "outputs": [],
   "source": []
  },
  {
   "cell_type": "code",
   "execution_count": null,
   "id": "7d6e0d72-fb1b-4102-bd20-e038f3eeee7c",
   "metadata": {},
   "outputs": [],
   "source": []
  },
  {
   "cell_type": "code",
   "execution_count": null,
   "id": "2da56b6b-111f-4d98-bbe7-07aea5ea184e",
   "metadata": {},
   "outputs": [],
   "source": []
  },
  {
   "cell_type": "code",
   "execution_count": null,
   "id": "5e2731b7-8577-4abf-8aaa-3795298d783b",
   "metadata": {},
   "outputs": [],
   "source": []
  },
  {
   "cell_type": "code",
   "execution_count": null,
   "id": "b196b358-6d1b-4688-bacf-fcc21431c26b",
   "metadata": {},
   "outputs": [],
   "source": []
  },
  {
   "cell_type": "code",
   "execution_count": null,
   "id": "618f9131-b91a-4629-a5f5-f93928ef9381",
   "metadata": {},
   "outputs": [],
   "source": []
  },
  {
   "cell_type": "code",
   "execution_count": null,
   "id": "56a3b1fa-300e-494d-873e-45ea84fb2642",
   "metadata": {},
   "outputs": [],
   "source": []
  }
 ],
 "metadata": {
  "kernelspec": {
   "display_name": "Python 3 (ipykernel)",
   "language": "python",
   "name": "python3"
  },
  "language_info": {
   "codemirror_mode": {
    "name": "ipython",
    "version": 3
   },
   "file_extension": ".py",
   "mimetype": "text/x-python",
   "name": "python",
   "nbconvert_exporter": "python",
   "pygments_lexer": "ipython3",
   "version": "3.11.7"
  }
 },
 "nbformat": 4,
 "nbformat_minor": 5
}
